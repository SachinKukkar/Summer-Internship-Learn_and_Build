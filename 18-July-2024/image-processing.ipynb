{
 "cells": [
  {
   "cell_type": "markdown",
   "metadata": {},
   "source": [
    "Mathematical operations in the hidden layer are done with the help of the \"Activation Function\" or \"Sigmoid Activation Function\"\n",
    "\n",
    "\"Activation Function\"  is a non-linear transformation of data that we do over the input signal, this transfrom output is then seen to the next layer of \"neurons\" as input.\n",
    "\n",
    "Non Linear Function make it easy for model to generalize or adapt with a variety of a data to differentiate between the outputs.\n",
    "\n",
    "** Important ** -> Activation function decides whether a neuron should be activated or not by calculating the weighted sum and further adding Bias to it.\n",
    "\n",
    "\n",
    "\n",
    "a(z) = 1 / 1 + (e)^-z\n",
    "\n",
    "* Perfect for Binary Classification where output is either 0 or 1 .\n",
    "* Output the probability belonging to a particular class.\n",
    "\n"
   ]
  }
 ],
 "metadata": {
  "language_info": {
   "name": "python"
  }
 },
 "nbformat": 4,
 "nbformat_minor": 2
}
