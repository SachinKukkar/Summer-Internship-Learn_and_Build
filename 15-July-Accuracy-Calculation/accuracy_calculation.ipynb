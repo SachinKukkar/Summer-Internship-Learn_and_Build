{
 "cells": [
  {
   "cell_type": "markdown",
   "metadata": {},
   "source": [
    "Precision = True Positive / (True Positive + False Positive)"
   ]
  },
  {
   "cell_type": "markdown",
   "metadata": {},
   "source": [
    "Recall = True Positive / (True Positive + False Negative )"
   ]
  },
  {
   "cell_type": "markdown",
   "metadata": {},
   "source": [
    "Accuracy = (True Positive + True Negative) / (True Positive + True Negative + False Positive + False Negative)"
   ]
  },
  {
   "cell_type": "markdown",
   "metadata": {},
   "source": [
    "F1 score = (2 )* ((Precision * Recall)/Precision+ Recall)"
   ]
  },
  {
   "cell_type": "markdown",
   "metadata": {},
   "source": [
    "R^2 = 1 - { Summation {(Actual output - Predicted Output)^2} / Summation {(Actual Output - mean of Predicted Output)^2} }"
   ]
  },
  {
   "cell_type": "code",
   "execution_count": 11,
   "metadata": {},
   "outputs": [
    {
     "name": "stdout",
     "output_type": "stream",
     "text": [
      "80.0\n",
      "80.0\n",
      "80.0\n",
      "20.0\n",
      "20.0\n"
     ]
    }
   ],
   "source": [
    "from sklearn.metrics import precision_score , recall_score , accuracy_score , f1_score , r2_score , mean_absolute_error , mean_squared_error \n",
    "import numpy as np\n",
    "\n",
    "y_true = [0,1,1,0,1,1,0,0,1,0]\n",
    "y_pred = [0,1,0,0,1,1,0,0,1,1]\n",
    "y_pred_reg = [2.5,0.0,2.1,1.8]\n",
    "\n",
    "# classifier metrics (confusion matrix)\n",
    "\n",
    "precision = precision_score(y_true,y_pred)\n",
    "print(precision*100)\n",
    "\n",
    "accuracy = accuracy_score(y_true,y_pred)\n",
    "print(accuracy*100)\n",
    "\n",
    "f1 = f1_score(y_true,y_pred)\n",
    "print(f1*100)\n",
    "\n",
    "\n",
    "# regression\n",
    "\n",
    "mae = mean_absolute_error(y_true,y_pred)\n",
    "print(mae*100) \n",
    "\n",
    "mse = mean_squared_error(y_true,y_pred)\n",
    "print(mse*100)\n",
    "\n"
   ]
  },
  {
   "cell_type": "code",
   "execution_count": 5,
   "metadata": {},
   "outputs": [
    {
     "name": "stdout",
     "output_type": "stream",
     "text": [
      "Precision: 80.0%\n",
      "Accuracy: 80.00%\n",
      "F1 Score: 80.00%\n",
      "Recall: 80.00%\n",
      "Mean Absolute Error: 20.00\n",
      "Mean Squared Error: 20.00\n"
     ]
    }
   ],
   "source": [
    "from sklearn.metrics import precision_score, recall_score, accuracy_score, f1_score, mean_absolute_error, mean_squared_error\n",
    "import numpy as np\n",
    "\n",
    "y_true = [0, 1, 1, 0, 1, 1, 0, 0, 1, 0]\n",
    "y_pred = [0, 1, 0, 0, 1, 1, 0, 0, 1, 1]\n",
    "y_pred_reg = [2.5, 0.0, 2.1, 1.8]\n",
    "\n",
    "# Classifier metrics (confusion matrix)\n",
    "precision = precision_score(y_true, y_pred)\n",
    "print(f'Precision: {precision * 100}%')\n",
    "\n",
    "accuracy = accuracy_score(y_true, y_pred)\n",
    "print(f'Accuracy: {accuracy * 100:.2f}%')\n",
    "\n",
    "f1 = f1_score(y_true, y_pred)\n",
    "print(f'F1 Score: {f1 * 100:.2f}%')\n",
    "\n",
    "# Calculate recall\n",
    "recall = recall_score(y_true, y_pred)\n",
    "print(f'Recall: {recall * 100:.2f}%')\n",
    "\n",
    "# Regression metrics\n",
    "mae = mean_absolute_error(y_true, y_pred)\n",
    "print(f'Mean Absolute Error: {mae * 100:.2f}') \n",
    "\n",
    "mse = mean_squared_error(y_true, y_pred)\n",
    "print(f'Mean Squared Error: {mse * 100:.2f}')\n"
   ]
  },
  {
   "cell_type": "code",
   "execution_count": 10,
   "metadata": {},
   "outputs": [
    {
     "name": "stdout",
     "output_type": "stream",
     "text": [
      "Accuracy: 0.8348868175765646\n",
      "Classification Report:\n",
      "                        precision    recall  f1-score   support\n",
      "\n",
      "           alt.atheism       0.97      0.60      0.74       319\n",
      "         comp.graphics       0.96      0.89      0.92       389\n",
      "               sci.med       0.97      0.81      0.88       396\n",
      "soc.religion.christian       0.65      0.99      0.78       398\n",
      "\n",
      "              accuracy                           0.83      1502\n",
      "             macro avg       0.89      0.82      0.83      1502\n",
      "          weighted avg       0.88      0.83      0.84      1502\n",
      "\n"
     ]
    }
   ],
   "source": [
    "import numpy as np\n",
    "from sklearn.datasets import fetch_20newsgroups\n",
    "from sklearn.feature_extraction.text import TfidfVectorizer\n",
    "from sklearn.naive_bayes import MultinomialNB\n",
    "from sklearn.pipeline import make_pipeline\n",
    "from sklearn.metrics import classification_report, accuracy_score\n",
    "\n",
    "# Step 2: Load the dataset\n",
    "categories = ['alt.atheism', 'soc.religion.christian', 'comp.graphics', 'sci.med']\n",
    "newsgroups_train = fetch_20newsgroups(subset='train', categories=categories)\n",
    "newsgroups_test = fetch_20newsgroups(subset='test', categories=categories)\n",
    "\n",
    "# Step 3: Preprocess the text data\n",
    "# We will use a TfidfVectorizer to convert the text data into TF-IDF features\n",
    "\n",
    "# Step 4: Split the data into training and testing sets\n",
    "# Already handled by the dataset's train and test subsets\n",
    "\n",
    "# Step 5: Train a Naive Bayes classifier\n",
    "model = make_pipeline(TfidfVectorizer(), MultinomialNB())\n",
    "model.fit(newsgroups_train.data, newsgroups_train.target)\n",
    "\n",
    "# Step 6: Evaluate the model\n",
    "predicted = model.predict(newsgroups_test.data)\n",
    "accuracy = accuracy_score(newsgroups_test.target, predicted)\n",
    "report = classification_report(newsgroups_test.target, predicted, target_names=newsgroups_test.target_names)\n",
    "\n",
    "print(f'Accuracy: {accuracy}')\n",
    "print('Classification Report:')\n",
    "print(report)\n"
   ]
  }
 ],
 "metadata": {
  "kernelspec": {
   "display_name": "Python 3",
   "language": "python",
   "name": "python3"
  },
  "language_info": {
   "codemirror_mode": {
    "name": "ipython",
    "version": 3
   },
   "file_extension": ".py",
   "mimetype": "text/x-python",
   "name": "python",
   "nbconvert_exporter": "python",
   "pygments_lexer": "ipython3",
   "version": "3.11.4"
  }
 },
 "nbformat": 4,
 "nbformat_minor": 2
}
