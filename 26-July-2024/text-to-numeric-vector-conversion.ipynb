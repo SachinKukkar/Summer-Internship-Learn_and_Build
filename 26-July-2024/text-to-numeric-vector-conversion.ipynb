{
 "cells": [
  {
   "cell_type": "markdown",
   "metadata": {},
   "source": [
    "Text to Numerical Vector conversion : Our ML and DL models take only numerical data as input to train the model and produce output. Hence, it is necessary to perform conversion step to convert textual data into it's equivalent numerical data."
   ]
  },
  {
   "cell_type": "markdown",
   "metadata": {},
   "source": [
    "BOW (Bag of Word) : count vectorizer \n",
    "\n",
    "TF-IDF\n",
    "\n",
    "BERT\n",
    "\n"
   ]
  },
  {
   "cell_type": "code",
   "execution_count": 1,
   "metadata": {},
   "outputs": [
    {
     "name": "stdout",
     "output_type": "stream",
     "text": [
      "<Compressed Sparse Row sparse matrix of dtype 'int64'\n",
      "\twith 21 stored elements and shape (4, 9)>\n",
      "  Coords\tValues\n",
      "  (0, 8)\t1\n",
      "  (0, 3)\t1\n",
      "  (0, 6)\t1\n",
      "  (0, 2)\t1\n",
      "  (0, 1)\t1\n",
      "  (1, 8)\t1\n",
      "  (1, 3)\t1\n",
      "  (1, 6)\t1\n",
      "  (1, 1)\t2\n",
      "  (1, 5)\t1\n",
      "  (2, 8)\t1\n",
      "  (2, 3)\t1\n",
      "  (2, 6)\t1\n",
      "  (2, 0)\t1\n",
      "  (2, 7)\t1\n",
      "  (2, 4)\t1\n",
      "  (3, 8)\t1\n",
      "  (3, 3)\t1\n",
      "  (3, 6)\t1\n",
      "  (3, 2)\t1\n",
      "  (3, 1)\t1\n",
      "['and' 'document' 'first' 'is' 'one' 'second' 'the' 'third' 'this']\n"
     ]
    }
   ],
   "source": [
    "from sklearn.feature_extraction.text import CountVectorizer\n",
    "\n",
    "document = [\n",
    "    'This is the first document',\n",
    "    'This document is the second document',\n",
    "    'And this is the third one',\n",
    "    'Is this the first document'\n",
    "]\n",
    "\n",
    "vectorizer = CountVectorizer()\n",
    "\n",
    "bow_matrix = vectorizer.fit_transform(document)\n",
    "\n",
    "vocabulary = vectorizer.get_feature_names_out()\n",
    "\n",
    "print(bow_matrix)\n",
    "print(vocabulary)"
   ]
  },
  {
   "cell_type": "code",
   "execution_count": 2,
   "metadata": {},
   "outputs": [
    {
     "name": "stdout",
     "output_type": "stream",
     "text": [
      "['and' 'document' 'first' 'is' 'one' 'second' 'the' 'third' 'this']\n",
      "<Compressed Sparse Row sparse matrix of dtype 'float64'\n",
      "\twith 20 stored elements and shape (4, 9)>\n",
      "  Coords\tValues\n",
      "  (0, 8)\t0.6750182731529082\n",
      "  (0, 3)\t0.3375091365764541\n",
      "  (0, 2)\t0.5099174517948423\n",
      "  (0, 1)\t0.41282212391311673\n",
      "  (1, 8)\t0.27573676378317086\n",
      "  (1, 3)\t0.27573676378317086\n",
      "  (1, 1)\t0.67453128896327\n",
      "  (1, 6)\t0.337265644481635\n",
      "  (1, 5)\t0.5283918048746635\n",
      "  (2, 8)\t0.26249892378623274\n",
      "  (2, 3)\t0.26249892378623274\n",
      "  (2, 6)\t0.3210738658560508\n",
      "  (2, 0)\t0.503024254778498\n",
      "  (2, 7)\t0.503024254778498\n",
      "  (2, 4)\t0.503024254778498\n",
      "  (3, 8)\t0.3707582582579934\n",
      "  (3, 3)\t0.3707582582579934\n",
      "  (3, 2)\t0.5601510767990252\n",
      "  (3, 1)\t0.453490572684753\n",
      "  (3, 6)\t0.453490572684753\n"
     ]
    }
   ],
   "source": [
    "# Term Frequency Inverse Document Frequency - Tfidf\n",
    "\n",
    "from sklearn.feature_extraction.text import TfidfVectorizer\n",
    "\n",
    "document = [\n",
    "    'This is this first document',\n",
    "    'This document is the second document',\n",
    "    'And this is the third one',\n",
    "    'Is this the first document'\n",
    "]\n",
    "\n",
    "tfidf_vectorizer = TfidfVectorizer()\n",
    "tfidf_matrix = tfidf_vectorizer.fit_transform(document)\n",
    "vocab = tfidf_vectorizer.get_feature_names_out()\n",
    "\n",
    "print(vocab)\n",
    "print(tfidf_matrix)\n"
   ]
  },
  {
   "cell_type": "code",
   "execution_count": null,
   "metadata": {},
   "outputs": [],
   "source": []
  }
 ],
 "metadata": {
  "kernelspec": {
   "display_name": "Python 3",
   "language": "python",
   "name": "python3"
  },
  "language_info": {
   "codemirror_mode": {
    "name": "ipython",
    "version": 3
   },
   "file_extension": ".py",
   "mimetype": "text/x-python",
   "name": "python",
   "nbconvert_exporter": "python",
   "pygments_lexer": "ipython3",
   "version": "3.11.4"
  }
 },
 "nbformat": 4,
 "nbformat_minor": 2
}
