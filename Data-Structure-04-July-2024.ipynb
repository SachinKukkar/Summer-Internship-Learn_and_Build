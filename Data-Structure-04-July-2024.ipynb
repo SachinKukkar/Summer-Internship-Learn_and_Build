{
 "cells": [
  {
   "cell_type": "markdown",
   "metadata": {},
   "source": [
    "Data Types - \n",
    "Numerical - int , float and complex \n",
    "Ordered - list , tuple and string\n",
    "Unordered - dictionary and set"
   ]
  },
  {
   "cell_type": "code",
   "execution_count": 3,
   "metadata": {},
   "outputs": [
    {
     "name": "stdout",
     "output_type": "stream",
     "text": [
      "The value of c is : (7+3j) and type of c is <class 'complex'>\n",
      "Real value of c is 7.0 and imaginary value is 3.0\n"
     ]
    }
   ],
   "source": [
    "c = 7 + 3j\n",
    "print(f\"The value of c is : {c} and type of c is {type(c)}\")\n",
    "print(f\"Real value of c is {c.real} and imaginary value is {c.imag}\")\n"
   ]
  },
  {
   "cell_type": "code",
   "execution_count": 22,
   "metadata": {},
   "outputs": [
    {
     "name": "stdout",
     "output_type": "stream",
     "text": [
      "Value of name is madam and type of name is <class 'str'>\n",
      "d\n",
      "mdm\n",
      "Pallindorme\n"
     ]
    }
   ],
   "source": [
    "name = \"madam\"\n",
    "print(f\"Value of name is {name} and type of name is {type(name)}\")\n",
    "print(name[2])\n",
    "name[0:5]\n",
    "print(name[0:5:2])\n",
    "n=name[-1::-1]\n",
    "if(name==n):\n",
    "    print(\"Pallindorme\")\n",
    "else:\n",
    "    print(\"Not Pallindrome\")    \n"
   ]
  },
  {
   "cell_type": "markdown",
   "metadata": {},
   "source": [
    "List : \n",
    "It is a collection of different types of data \n",
    "It is mutable in nature  ( advance memory reserve krke rkhta h but mostly ye waste ho jati h isliye tuple use kiye jate h)\n",
    "We can create list using [ ] \n",
    "It is not suitable for memory optimizatin \n",
    " "
   ]
  },
  {
   "cell_type": "code",
   "execution_count": 27,
   "metadata": {},
   "outputs": [
    {
     "name": "stdout",
     "output_type": "stream",
     "text": [
      "Value of info is ['Sachin', 'Randhir', 'Rajveer', 4, 3, 6, 87.6, 55.7, 45.6] and type of info is <class 'list'>\n",
      "Names :  ['Sachin', 'Randhir', 'Rajveer']\n",
      "RollNo :  [4, 3, 6]\n",
      "Percentage :  [87.6, 55.7, 45.6]\n"
     ]
    }
   ],
   "source": [
    "info = ['Sachin' , 'Randhir' , 'Rajveer' , 4,3,6,87.6,55.7,45.6]\n",
    "\n",
    "print(f\"Value of info is {info} and type of info is {type(info)}\")\n",
    "\n",
    "# Program to separate names , rollno and percentage from a list into separate lists\n",
    "Names = []\n",
    "Rollno = []\n",
    "Perc = []\n",
    "\n",
    "for item in info:\n",
    "    if type(item) == str:\n",
    "        Names.append(item)\n",
    "    elif type(item) == int:\n",
    "        Rollno.append(item)\n",
    "    elif type(item) == float:\n",
    "        Perc.append(item)\n",
    "\n",
    "print(\"Names : \", Names)\n",
    "print(\"RollNo : \", Rollno)\n",
    "print(\"Percentage : \", Perc)\n"
   ]
  },
  {
   "cell_type": "code",
   "execution_count": 30,
   "metadata": {},
   "outputs": [
    {
     "data": {
      "text/plain": [
       "['Sachin', 'Randhir', 'Rajveer']"
      ]
     },
     "execution_count": 30,
     "metadata": {},
     "output_type": "execute_result"
    }
   ],
   "source": [
    "n = [i for i in info if type(i)==str] #example of  List Comprehension\n",
    "n"
   ]
  },
  {
   "cell_type": "markdown",
   "metadata": {},
   "source": [
    "Tuple : \n",
    "It is a collection of different types of data \n",
    "It is im-mutable in nature \n",
    "We can create list using ( ) \n",
    "It is suitable for memory optimizatin \n",
    " "
   ]
  },
  {
   "cell_type": "code",
   "execution_count": 31,
   "metadata": {},
   "outputs": [
    {
     "name": "stdout",
     "output_type": "stream",
     "text": [
      "Latitude: 48.8584\n",
      "Longitude: 2.2945\n"
     ]
    }
   ],
   "source": [
    "# Real Life example of Tuple is - Geographical Coordinates \n",
    "\n",
    "# Latitude and longitude of the Eiffel Tower\n",
    "eiffel_tower_coordinates = (48.8584, 2.2945)\n",
    "\n",
    "# Accessing elements of the tuple\n",
    "latitude = eiffel_tower_coordinates[0]\n",
    "longitude = eiffel_tower_coordinates[1]\n",
    "\n",
    "print(\"Latitude:\", latitude)\n",
    "print(\"Longitude:\", longitude)\n"
   ]
  },
  {
   "cell_type": "code",
   "execution_count": 36,
   "metadata": {},
   "outputs": [
    {
     "name": "stdout",
     "output_type": "stream",
     "text": [
      "Information of user1 is ('Sachin', 19, 95.4) and type of data structure is <class 'tuple'>\n"
     ]
    },
    {
     "data": {
      "text/plain": [
       "0"
      ]
     },
     "execution_count": 36,
     "metadata": {},
     "output_type": "execute_result"
    }
   ],
   "source": [
    "user1 = ('Sachin' , 19 , 95.4)\n",
    "print(f\"Information of user1 is {user1} and type of data structure is {type(user1)}\")\n",
    "\n",
    "user1.count(19) # Entered element kitni baar aya hai ye btaega \n",
    "\n",
    "print(\"The index of username is : \" , user1.index('Sachin'))"
   ]
  },
  {
   "cell_type": "markdown",
   "metadata": {},
   "source": [
    "# HomeWork\n",
    "### Ek tuple me agr elements repeat ho rahe h to unka index kaise nikalenge ?? "
   ]
  },
  {
   "cell_type": "markdown",
   "metadata": {},
   "source": [
    "# Set\n",
    "\n",
    "### It is collection of different types of elements which are un-ordered\n",
    "### It is mutable in nature\n",
    "### It doesn't contain duplicate values\n",
    "### We can create set using { }"
   ]
  },
  {
   "cell_type": "code",
   "execution_count": 41,
   "metadata": {},
   "outputs": [
    {
     "data": {
      "text/plain": [
       "{'Dancing', 'Singing'}"
      ]
     },
     "execution_count": 41,
     "metadata": {},
     "output_type": "execute_result"
    }
   ],
   "source": [
    "person1_hobbies = {'Dancing' , 'Singing' , 'Dancing'}\n",
    "person1_hobbies.clear\n",
    "person1_hobbies"
   ]
  },
  {
   "cell_type": "markdown",
   "metadata": {},
   "source": [
    "## Dictionaries\n",
    "\n",
    "### It is collection of Key-Value pairs\n",
    "### It is mutable in nature\n",
    "### We can create it using { }"
   ]
  },
  {
   "cell_type": "code",
   "execution_count": 75,
   "metadata": {},
   "outputs": [
    {
     "name": "stdout",
     "output_type": "stream",
     "text": [
      "['Sachin', 'Randhir', 'Rajveer']\n",
      "[87.6, 55.7, 45.6]\n",
      "Sachin\n",
      "Rajveer\n"
     ]
    }
   ],
   "source": [
    "student_info  = {\n",
    "    'Name' : Names , \n",
    "    'Rollno' : Rollno ,\n",
    "    'Perc' : Perc \n",
    "    }\n",
    "\n",
    "print(student_info['Name'])\n",
    "print(student_info['Perc'])\n",
    "\n",
    "print(student_info['Name'][0])\n",
    "#print(max(Perc)) # correct hai but not according to dictionary\n",
    "max(student_info['Perc'])\n",
    "\n",
    "i = min(student_info['Perc'])\n",
    "print(student_info['Name'][student_info['Perc'].index(i)])\n"
   ]
  },
  {
   "cell_type": "code",
   "execution_count": null,
   "metadata": {},
   "outputs": [],
   "source": []
  }
 ],
 "metadata": {
  "kernelspec": {
   "display_name": "Python 3",
   "language": "python",
   "name": "python3"
  },
  "language_info": {
   "codemirror_mode": {
    "name": "ipython",
    "version": 3
   },
   "file_extension": ".py",
   "mimetype": "text/x-python",
   "name": "python",
   "nbconvert_exporter": "python",
   "pygments_lexer": "ipython3",
   "version": "3.11.4"
  }
 },
 "nbformat": 4,
 "nbformat_minor": 2
}
