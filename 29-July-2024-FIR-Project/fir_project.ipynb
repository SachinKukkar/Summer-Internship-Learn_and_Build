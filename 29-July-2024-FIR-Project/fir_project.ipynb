{
 "cells": [
  {
   "cell_type": "code",
   "execution_count": null,
   "metadata": {},
   "outputs": [],
   "source": [
    "import re\n",
    "from nltk.tokenize import word_tokenize\n",
    "from nltk.corpus import stopwords\n",
    "from nltk.stem import WordNetLemmatizer\n",
    "from nltk.stem import PorterStemmer"
   ]
  },
  {
   "cell_type": "code",
   "execution_count": null,
   "metadata": {},
   "outputs": [],
   "source": [
    "def preprocess_text(text):\n",
    "    text=text.lower()\n",
    "    words=word_tokenize(text)\n",
    "    stop_word=set(stopwords.words('english'))\n",
    "    words=[word for word in words if word not in stop_word]\n",
    "    stemmer=PorterStemmer()\n",
    "    words=[stemmer.stem(word) for word in words]\n",
    "\n",
    "    proprocessed_text=' '.join(words)\n",
    "    return proprocessed_text"
   ]
  },
  {
   "cell_type": "code",
   "execution_count": null,
   "metadata": {},
   "outputs": [],
   "source": [
    "import pandas as pd\n",
    "try:\n",
    "    ds=pd.read_csv('D:/My WorkSpace/Summer-Internship/29-July-2024/FIR-DATA.csv')\n",
    "    print(ds.head(2))\n",
    "except UnicodeDecodeError as err:\n",
    "    print(f\"Error: {err}\")"
   ]
  },
  {
   "cell_type": "code",
   "execution_count": null,
   "metadata": {},
   "outputs": [],
   "source": [
    "ds.isnull().sum()"
   ]
  },
  {
   "cell_type": "code",
   "execution_count": null,
   "metadata": {},
   "outputs": [],
   "source": [
    "ds.fillna(\"Not Mentioned\",inplace=True)\n"
   ]
  },
  {
   "cell_type": "code",
   "execution_count": null,
   "metadata": {},
   "outputs": [],
   "source": [
    "ds.isnull().sum()"
   ]
  },
  {
   "cell_type": "code",
   "execution_count": null,
   "metadata": {},
   "outputs": [],
   "source": [
    "ds['Combo']=ds['Description']+ds['Offense']\n",
    "ds.head(1)"
   ]
  },
  {
   "cell_type": "code",
   "execution_count": null,
   "metadata": {},
   "outputs": [],
   "source": [
    "ds['Combo']=ds['Combo'].apply(preprocess_text)\n",
    "ds.head(1)"
   ]
  },
  {
   "cell_type": "code",
   "execution_count": null,
   "metadata": {},
   "outputs": [],
   "source": [
    "new_ds=ds[['Description','Offense','Punishment','Cognizable','Bailable','Court','Combo']]\n",
    "new_ds.head(1)"
   ]
  },
  {
   "cell_type": "code",
   "execution_count": null,
   "metadata": {},
   "outputs": [],
   "source": [
    "new_ds['Combo']=new_ds['Combo'].apply(lambda x:\"\".join(x))\n",
    "new_ds.head(1)"
   ]
  },
  {
   "cell_type": "code",
   "execution_count": null,
   "metadata": {},
   "outputs": [],
   "source": [
    "import pickle\n",
    "with open('preprocess_data.pkl','wb')as file:\n",
    "    pickle.dump(new_ds,file)\n",
    "new_ds=pickle.load(open('preprocess_data.pkl','rb'))\n",
    "\n"
   ]
  },
  {
   "cell_type": "markdown",
   "metadata": {},
   "source": [
    "pip install tf_keras\n",
    "pip uninstall torch torchvision torchaudio\n",
    "pip cache purge\n",
    "pip install torch torchvision torchaudio --index-url https://download.pytorch.org/whl/cu117\n"
   ]
  },
  {
   "cell_type": "code",
   "execution_count": null,
   "metadata": {},
   "outputs": [],
   "source": [
    "from sklearn.feature_extraction.text import TfidfVectorizer\n",
    "from sklearn.metrics.pairwise import cosine_similarity\n",
    "from sentence_transformers import SentenceTransformer, util\n",
    "model=SentenceTransformer('paraphrase-MiniLM-L6-v2')\n",
    "    "
   ]
  },
  {
   "cell_type": "code",
   "execution_count": null,
   "metadata": {},
   "outputs": [],
   "source": [
    "def suggest_sections(complaint,dataset,min_suggestions=5):\n",
    "    preprocessed_complaint=preprocess_text(complaint)\n",
    "    complaint_embedding=model.encode(preprocessed_complaint)\n",
    "    section_embedding=model.encode(dataset['Combo'].tolist())\n",
    "    similarities=util.pytorch_cos_sim(complaint_embedding,section_embedding)[0]\n",
    "    similarity_threhold=0.2\n",
    "    relevant_indices=[]\n",
    "    while len(relevant_indices)<min_suggestions and similarity_threhold>0:\n",
    "        relevant_indices=[i for i, sim in enumerate(similarities)if sim>similarity_threhold]\n",
    "        similarity_threhold-=0.5 #st=st-0.5\n",
    "        sorted_indices=sorted(relevant_indices,key=lambda i: similarities[i],reverse=True)\n",
    "        suggestions=dataset.iloc[sorted_indices][['Description','Offense','Punishment','Cognizable','Bailable','Court','Combo']].to_dict(orient='records')\n",
    "        return suggestions\n"
   ]
  },
  {
   "cell_type": "code",
   "execution_count": null,
   "metadata": {},
   "outputs": [],
   "source": [
    "complaint=input(\"Enter crime description\")\n",
    "suggest_sections=suggest_sections(complaint,new_ds)\n",
    "if suggest_sections:\n",
    "    print(\"Suggested Section are:\")\n",
    "    for suggestion in suggest_sections:\n",
    "        print(f\"Description: {suggestion['Description']}\")\n",
    "        print(f\"Offense: {suggestion['Offense']}\")\n",
    "        print(f\"Punishment: {suggestion['Punishment']}\")\n",
    "        print(\"_________________________________________________________________________________________\\n\")\n",
    "else:\n",
    "    print(\"No record is found\")\n"
   ]
  }
 ],
 "metadata": {
  "kernelspec": {
   "display_name": "Python 3",
   "language": "python",
   "name": "python3"
  },
  "language_info": {
   "codemirror_mode": {
    "name": "ipython",
    "version": 3
   },
   "file_extension": ".py",
   "mimetype": "text/x-python",
   "name": "python",
   "nbconvert_exporter": "python",
   "pygments_lexer": "ipython3",
   "version": "3.11.4"
  }
 },
 "nbformat": 4,
 "nbformat_minor": 2
}
