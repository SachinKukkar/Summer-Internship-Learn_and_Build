{
 "cells": [
  {
   "cell_type": "code",
   "execution_count": null,
   "metadata": {},
   "outputs": [],
   "source": [
    "import re\n",
    "from nltk.tokenize import word_tokenize\n",
    "from nltk.corpus import stopwords\n",
    "from nltk.stem import WordNetLemmatizer\n",
    "from nltk.stem import PorterStemmer"
   ]
  },
  {
   "cell_type": "code",
   "execution_count": null,
   "metadata": {},
   "outputs": [],
   "source": [
    "def preprocess_text(text):\n",
    "    text=text.lower()\n",
    "    words=word_tokenize(text)\n",
    "    stop_word=set(stopwords.words('english'))\n",
    "    words=[word for word in words if word not in stop_word]\n",
    "    stemmer=PorterStemmer()\n",
    "    words=[stemmer.stem(word) for word in words]\n",
    "\n",
    "    proprocessed_text=' '.join(words)\n",
    "    return proprocessed_text"
   ]
  },
  {
   "cell_type": "code",
   "execution_count": null,
   "metadata": {},
   "outputs": [],
   "source": [
    "import pandas as pd\n",
    "try:\n",
    "    ds=pd.read_csv('D:/My WorkSpace/Summer-Internship/05-August-2024/questions_answers.csv',encoding='ISO-8859-1')\n",
    "    print(ds.head(2))\n",
    "except UnicodeDecodeError as err:\n",
    "    print(f\"Error: {err}\")"
   ]
  },
  {
   "cell_type": "code",
   "execution_count": null,
   "metadata": {},
   "outputs": [],
   "source": [
    "ds.isnull().sum()"
   ]
  },
  {
   "cell_type": "code",
   "execution_count": null,
   "metadata": {},
   "outputs": [],
   "source": [
    "ds.fillna(\"Not Mentioned\",inplace=True)"
   ]
  },
  {
   "cell_type": "code",
   "execution_count": null,
   "metadata": {},
   "outputs": [],
   "source": [
    "ds['ans1']=ds['ans1'].apply(preprocess_text)\n",
    "ds.head(1)"
   ]
  },
  {
   "cell_type": "code",
   "execution_count": null,
   "metadata": {},
   "outputs": [],
   "source": [
    "from sklearn.feature_extraction.text import TfidfVectorizer\n",
    "from sklearn.metrics.pairwise import cosine_similarity\n",
    "from sentence_transformers import SentenceTransformer, util\n",
    "model=SentenceTransformer('paraphrase-MiniLM-L6-v2')\n",
    "    "
   ]
  },
  {
   "cell_type": "code",
   "execution_count": null,
   "metadata": {},
   "outputs": [],
   "source": [
    "def suggest_sections(ans,ds,min_suggestions=5):\n",
    "    preprocessed_ans=preprocess_text(ans)\n",
    "    ans_embedding=model.encode(preprocessed_ans)\n",
    "    section_embedding=model.encode(ds['ans1'].tolist())\n",
    "    similarities=util.pytorch_cos_sim(ans_embedding,section_embedding)[0]\n",
    "    similarity_threhold=0.2\n",
    "    relevant_indices=[]\n",
    "    while len(relevant_indices)<min_suggestions and similarity_threhold>0:\n",
    "        relevant_indices=[i for i, sim in enumerate(similarities)if sim>similarity_threhold]\n",
    "        similarity_threhold-=0.5 #st=st-0.5\n",
    "        sorted_indices=sorted(relevant_indices,key=lambda i: similarities[i],reverse=True)\n",
    "        suggestions=[\n",
    "            {\n",
    "                'index':i,\n",
    "                'question':ds.iloc[i]['question'],\n",
    "                'ans':ds.iloc[i]['ans'],\n",
    "                'similarity_score':similarities[i].items()\n",
    "            }\n",
    "\n",
    "            for i in sorted_indices\n",
    "        ]\n",
    "    return suggestions\n"
   ]
  },
  {
   "cell_type": "code",
   "execution_count": null,
   "metadata": {},
   "outputs": [],
   "source": [
    "ans='Python is general purpose programming language '\n",
    "suggestions=suggest_sections(ans,ds,min_suggestions=1)\n",
    "for suggestion in suggestions:\n",
    "        print(f\"S_no: {suggestion['index']}\")\n",
    "        print(f\"Question: {suggestion['question']}\")\n",
    "        print(f\"Your answer : {ans}\")\n",
    "        print(f\"Answer: {suggestion['ans']}\")\n",
    "        \n",
    "        print(\"_________________________________________________________________________________________\\n\")\n",
    "else:\n",
    "    print(\"No record is found\")\n"
   ]
  }
 ],
 "metadata": {
  "kernelspec": {
   "display_name": "Python 3",
   "language": "python",
   "name": "python3"
  },
  "language_info": {
   "codemirror_mode": {
    "name": "ipython",
    "version": 3
   },
   "file_extension": ".py",
   "mimetype": "text/x-python",
   "name": "python",
   "nbconvert_exporter": "python",
   "pygments_lexer": "ipython3",
   "version": "3.11.4"
  }
 },
 "nbformat": 4,
 "nbformat_minor": 2
}
