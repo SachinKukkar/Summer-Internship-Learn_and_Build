{
 "cells": [
  {
   "cell_type": "code",
   "execution_count": 94,
   "metadata": {},
   "outputs": [],
   "source": [
    "import re\n",
    "from nltk.tokenize import word_tokenize\n",
    "from nltk.corpus import stopwords\n",
    "from nltk.stem import WordNetLemmatizer\n",
    "from nltk.stem import PorterStemmer"
   ]
  },
  {
   "cell_type": "code",
   "execution_count": 95,
   "metadata": {},
   "outputs": [],
   "source": [
    "def preprocess_text(text):\n",
    "    text=text.lower()\n",
    "    words=word_tokenize(text)\n",
    "    stop_word=set(stopwords.words('english'))\n",
    "    words=[word for word in words if word not in stop_word]\n",
    "    stemmer=PorterStemmer()\n",
    "    words=[stemmer.stem(word) for word in words]\n",
    "\n",
    "    proprocessed_text=' '.join(words)\n",
    "    return proprocessed_text"
   ]
  },
  {
   "cell_type": "code",
   "execution_count": 96,
   "metadata": {},
   "outputs": [
    {
     "name": "stdout",
     "output_type": "stream",
     "text": [
      "  sr_no                                           question  \\\n",
      "0     1  What is Python? List some popular applications...   \n",
      "1     2  What are the benefits of using Python language...   \n",
      "\n",
      "                                                 ans  \\\n",
      "0  Python is a widely-used general-purpose, high-...   \n",
      "1  Object-Oriented Language\\nHigh-Level Language\\...   \n",
      "\n",
      "                                                ans1  \n",
      "0  Python is a widely-used general-purpose, high-...  \n",
      "1  Object-Oriented Language\\nHigh-Level Language\\...  \n"
     ]
    }
   ],
   "source": [
    "import pandas as pd\n",
    "try:\n",
    "    ds=pd.read_csv('D:/My WorkSpace/Summer-Internship/05-August-2024/questions_answers.csv',encoding='ISO-8859-1')\n",
    "    print(ds.head(2))\n",
    "except UnicodeDecodeError as err:\n",
    "    print(f\"Error: {err}\")"
   ]
  },
  {
   "cell_type": "code",
   "execution_count": 97,
   "metadata": {},
   "outputs": [
    {
     "data": {
      "text/plain": [
       "sr_no       1\n",
       "question    3\n",
       "ans         3\n",
       "ans1        3\n",
       "dtype: int64"
      ]
     },
     "execution_count": 97,
     "metadata": {},
     "output_type": "execute_result"
    }
   ],
   "source": [
    "ds.isnull().sum()"
   ]
  },
  {
   "cell_type": "code",
   "execution_count": 98,
   "metadata": {},
   "outputs": [],
   "source": [
    "ds.fillna(\"Not Mentioned\",inplace=True)"
   ]
  },
  {
   "cell_type": "code",
   "execution_count": 99,
   "metadata": {},
   "outputs": [
    {
     "data": {
      "text/html": [
       "<div>\n",
       "<style scoped>\n",
       "    .dataframe tbody tr th:only-of-type {\n",
       "        vertical-align: middle;\n",
       "    }\n",
       "\n",
       "    .dataframe tbody tr th {\n",
       "        vertical-align: top;\n",
       "    }\n",
       "\n",
       "    .dataframe thead th {\n",
       "        text-align: right;\n",
       "    }\n",
       "</style>\n",
       "<table border=\"1\" class=\"dataframe\">\n",
       "  <thead>\n",
       "    <tr style=\"text-align: right;\">\n",
       "      <th></th>\n",
       "      <th>sr_no</th>\n",
       "      <th>question</th>\n",
       "      <th>ans</th>\n",
       "      <th>ans1</th>\n",
       "    </tr>\n",
       "  </thead>\n",
       "  <tbody>\n",
       "    <tr>\n",
       "      <th>0</th>\n",
       "      <td>1</td>\n",
       "      <td>What is Python? List some popular applications...</td>\n",
       "      <td>Python is a widely-used general-purpose, high-...</td>\n",
       "      <td>python widely-us general-purpos , high-level p...</td>\n",
       "    </tr>\n",
       "  </tbody>\n",
       "</table>\n",
       "</div>"
      ],
      "text/plain": [
       "  sr_no                                           question  \\\n",
       "0     1  What is Python? List some popular applications...   \n",
       "\n",
       "                                                 ans  \\\n",
       "0  Python is a widely-used general-purpose, high-...   \n",
       "\n",
       "                                                ans1  \n",
       "0  python widely-us general-purpos , high-level p...  "
      ]
     },
     "execution_count": 99,
     "metadata": {},
     "output_type": "execute_result"
    }
   ],
   "source": [
    "ds['ans1']=ds['ans1'].apply(preprocess_text)\n",
    "ds.head(1)"
   ]
  },
  {
   "cell_type": "code",
   "execution_count": 100,
   "metadata": {},
   "outputs": [],
   "source": [
    "from sklearn.feature_extraction.text import TfidfVectorizer\n",
    "from sklearn.metrics.pairwise import cosine_similarity\n",
    "from sentence_transformers import SentenceTransformer, util\n",
    "model=SentenceTransformer('paraphrase-MiniLM-L6-v2')\n",
    "    "
   ]
  },
  {
   "cell_type": "code",
   "execution_count": 101,
   "metadata": {},
   "outputs": [],
   "source": [
    "def suggest_sections(ans,ds,min_suggestions=5):\n",
    "    preprocessed_ans=preprocess_text(ans)\n",
    "    ans_embedding=model.encode(preprocessed_ans)\n",
    "    section_embedding=model.encode(ds['ans1'].tolist())\n",
    "    similarities=util.pytorch_cos_sim(ans_embedding,section_embedding)[0]\n",
    "    similarity_threhold=0.2\n",
    "    relevant_indices=[]\n",
    "    while len(relevant_indices)<min_suggestions and similarity_threhold>0:\n",
    "        relevant_indices=[i for i, sim in enumerate(similarities)if sim>similarity_threhold]\n",
    "        similarity_threhold-=0.5 #st=st-0.5\n",
    "        sorted_indices=sorted(relevant_indices,key=lambda i: similarities[i],reverse=True)\n",
    "        suggestions=[\n",
    "            {\n",
    "                'index':i,\n",
    "                'question':ds.iloc[i]['question'],\n",
    "                'ans':ds.iloc[i]['ans'],\n",
    "                'similarity_score':similarities[i].items()\n",
    "            }\n",
    "\n",
    "            for i in sorted_indices\n",
    "        ]\n",
    "    return suggestions\n"
   ]
  },
  {
   "cell_type": "code",
   "execution_count": 103,
   "metadata": {},
   "outputs": [
    {
     "name": "stdout",
     "output_type": "stream",
     "text": [
      "Following are the questions : \n",
      "0    What is Python? List some popular applications...\n",
      "1    What are the benefits of using Python language...\n",
      "2    What is the difference between a Mutable datat...\n",
      "3    What is the difference between a Set and Dicti...\n",
      "4                            What is a pass in Python?\n",
      "5    Difference between for loop and while loop in ...\n",
      "6                                        Not Mentioned\n",
      "7                                        Not Mentioned\n",
      "8                                        Not Mentioned\n",
      "Name: question, dtype: object\n"
     ]
    },
    {
     "ename": "AttributeError",
     "evalue": "'Tensor' object has no attribute 'items'",
     "output_type": "error",
     "traceback": [
      "\u001b[1;31m---------------------------------------------------------------------------\u001b[0m",
      "\u001b[1;31mAttributeError\u001b[0m                            Traceback (most recent call last)",
      "Cell \u001b[1;32mIn[103], line 5\u001b[0m\n\u001b[0;32m      3\u001b[0m n\u001b[38;5;241m=\u001b[39m\u001b[38;5;28mint\u001b[39m(\u001b[38;5;28minput\u001b[39m(\u001b[38;5;124m\"\u001b[39m\u001b[38;5;124menter your question you want to answer :\u001b[39m\u001b[38;5;124m\"\u001b[39m))\n\u001b[0;32m      4\u001b[0m ans \u001b[38;5;241m=\u001b[39m \u001b[38;5;28minput\u001b[39m(\u001b[38;5;124m\"\u001b[39m\u001b[38;5;124mEnter your answer\u001b[39m\u001b[38;5;124m\"\u001b[39m)\n\u001b[1;32m----> 5\u001b[0m suggestions\u001b[38;5;241m=\u001b[39m\u001b[43msuggest_sections\u001b[49m\u001b[43m(\u001b[49m\u001b[43mans\u001b[49m\u001b[43m,\u001b[49m\u001b[43mds\u001b[49m\u001b[43m,\u001b[49m\u001b[43mmin_suggestions\u001b[49m\u001b[38;5;241;43m=\u001b[39;49m\u001b[38;5;241;43m1\u001b[39;49m\u001b[43m)\u001b[49m\n\u001b[0;32m      6\u001b[0m suggestion\u001b[38;5;241m=\u001b[39msuggestions[n\u001b[38;5;241m-\u001b[39m\u001b[38;5;241m1\u001b[39m]\n\u001b[0;32m      7\u001b[0m \u001b[38;5;28;01mif\u001b[39;00m suggestion:\n",
      "Cell \u001b[1;32mIn[101], line 12\u001b[0m, in \u001b[0;36msuggest_sections\u001b[1;34m(ans, ds, min_suggestions)\u001b[0m\n\u001b[0;32m     10\u001b[0m     similarity_threhold\u001b[38;5;241m-\u001b[39m\u001b[38;5;241m=\u001b[39m\u001b[38;5;241m0.5\u001b[39m \u001b[38;5;66;03m#st=st-0.5\u001b[39;00m\n\u001b[0;32m     11\u001b[0m     sorted_indices\u001b[38;5;241m=\u001b[39m\u001b[38;5;28msorted\u001b[39m(relevant_indices,key\u001b[38;5;241m=\u001b[39m\u001b[38;5;28;01mlambda\u001b[39;00m i: similarities[i],reverse\u001b[38;5;241m=\u001b[39m\u001b[38;5;28;01mTrue\u001b[39;00m)\n\u001b[1;32m---> 12\u001b[0m     suggestions\u001b[38;5;241m=\u001b[39m\u001b[43m[\u001b[49m\n\u001b[0;32m     13\u001b[0m \u001b[43m        \u001b[49m\u001b[43m{\u001b[49m\n\u001b[0;32m     14\u001b[0m \u001b[43m            \u001b[49m\u001b[38;5;124;43m'\u001b[39;49m\u001b[38;5;124;43mindex\u001b[39;49m\u001b[38;5;124;43m'\u001b[39;49m\u001b[43m:\u001b[49m\u001b[43mi\u001b[49m\u001b[43m,\u001b[49m\n\u001b[0;32m     15\u001b[0m \u001b[43m            \u001b[49m\u001b[38;5;124;43m'\u001b[39;49m\u001b[38;5;124;43mquestion\u001b[39;49m\u001b[38;5;124;43m'\u001b[39;49m\u001b[43m:\u001b[49m\u001b[43mds\u001b[49m\u001b[38;5;241;43m.\u001b[39;49m\u001b[43miloc\u001b[49m\u001b[43m[\u001b[49m\u001b[43mi\u001b[49m\u001b[43m]\u001b[49m\u001b[43m[\u001b[49m\u001b[38;5;124;43m'\u001b[39;49m\u001b[38;5;124;43mquestion\u001b[39;49m\u001b[38;5;124;43m'\u001b[39;49m\u001b[43m]\u001b[49m\u001b[43m,\u001b[49m\n\u001b[0;32m     16\u001b[0m \u001b[43m            \u001b[49m\u001b[38;5;124;43m'\u001b[39;49m\u001b[38;5;124;43mans\u001b[39;49m\u001b[38;5;124;43m'\u001b[39;49m\u001b[43m:\u001b[49m\u001b[43mds\u001b[49m\u001b[38;5;241;43m.\u001b[39;49m\u001b[43miloc\u001b[49m\u001b[43m[\u001b[49m\u001b[43mi\u001b[49m\u001b[43m]\u001b[49m\u001b[43m[\u001b[49m\u001b[38;5;124;43m'\u001b[39;49m\u001b[38;5;124;43mans\u001b[39;49m\u001b[38;5;124;43m'\u001b[39;49m\u001b[43m]\u001b[49m\u001b[43m,\u001b[49m\n\u001b[0;32m     17\u001b[0m \u001b[43m            \u001b[49m\u001b[38;5;124;43m'\u001b[39;49m\u001b[38;5;124;43msimilarity_score\u001b[39;49m\u001b[38;5;124;43m'\u001b[39;49m\u001b[43m:\u001b[49m\u001b[43msimilarities\u001b[49m\u001b[43m[\u001b[49m\u001b[43mi\u001b[49m\u001b[43m]\u001b[49m\u001b[38;5;241;43m.\u001b[39;49m\u001b[43mitems\u001b[49m\u001b[43m(\u001b[49m\u001b[43m)\u001b[49m\n\u001b[0;32m     18\u001b[0m \u001b[43m        \u001b[49m\u001b[43m}\u001b[49m\n\u001b[0;32m     19\u001b[0m \n\u001b[0;32m     20\u001b[0m \u001b[43m        \u001b[49m\u001b[38;5;28;43;01mfor\u001b[39;49;00m\u001b[43m \u001b[49m\u001b[43mi\u001b[49m\u001b[43m \u001b[49m\u001b[38;5;129;43;01min\u001b[39;49;00m\u001b[43m \u001b[49m\u001b[43msorted_indices\u001b[49m\n\u001b[0;32m     21\u001b[0m \u001b[43m    \u001b[49m\u001b[43m]\u001b[49m\n\u001b[0;32m     22\u001b[0m \u001b[38;5;28;01mreturn\u001b[39;00m suggestions\n",
      "Cell \u001b[1;32mIn[101], line 17\u001b[0m, in \u001b[0;36m<listcomp>\u001b[1;34m(.0)\u001b[0m\n\u001b[0;32m     10\u001b[0m     similarity_threhold\u001b[38;5;241m-\u001b[39m\u001b[38;5;241m=\u001b[39m\u001b[38;5;241m0.5\u001b[39m \u001b[38;5;66;03m#st=st-0.5\u001b[39;00m\n\u001b[0;32m     11\u001b[0m     sorted_indices\u001b[38;5;241m=\u001b[39m\u001b[38;5;28msorted\u001b[39m(relevant_indices,key\u001b[38;5;241m=\u001b[39m\u001b[38;5;28;01mlambda\u001b[39;00m i: similarities[i],reverse\u001b[38;5;241m=\u001b[39m\u001b[38;5;28;01mTrue\u001b[39;00m)\n\u001b[0;32m     12\u001b[0m     suggestions\u001b[38;5;241m=\u001b[39m[\n\u001b[0;32m     13\u001b[0m         {\n\u001b[0;32m     14\u001b[0m             \u001b[38;5;124m'\u001b[39m\u001b[38;5;124mindex\u001b[39m\u001b[38;5;124m'\u001b[39m:i,\n\u001b[0;32m     15\u001b[0m             \u001b[38;5;124m'\u001b[39m\u001b[38;5;124mquestion\u001b[39m\u001b[38;5;124m'\u001b[39m:ds\u001b[38;5;241m.\u001b[39miloc[i][\u001b[38;5;124m'\u001b[39m\u001b[38;5;124mquestion\u001b[39m\u001b[38;5;124m'\u001b[39m],\n\u001b[0;32m     16\u001b[0m             \u001b[38;5;124m'\u001b[39m\u001b[38;5;124mans\u001b[39m\u001b[38;5;124m'\u001b[39m:ds\u001b[38;5;241m.\u001b[39miloc[i][\u001b[38;5;124m'\u001b[39m\u001b[38;5;124mans\u001b[39m\u001b[38;5;124m'\u001b[39m],\n\u001b[1;32m---> 17\u001b[0m             \u001b[38;5;124m'\u001b[39m\u001b[38;5;124msimilarity_score\u001b[39m\u001b[38;5;124m'\u001b[39m:\u001b[43msimilarities\u001b[49m\u001b[43m[\u001b[49m\u001b[43mi\u001b[49m\u001b[43m]\u001b[49m\u001b[38;5;241;43m.\u001b[39;49m\u001b[43mitems\u001b[49m()\n\u001b[0;32m     18\u001b[0m         }\n\u001b[0;32m     19\u001b[0m \n\u001b[0;32m     20\u001b[0m         \u001b[38;5;28;01mfor\u001b[39;00m i \u001b[38;5;129;01min\u001b[39;00m sorted_indices\n\u001b[0;32m     21\u001b[0m     ]\n\u001b[0;32m     22\u001b[0m \u001b[38;5;28;01mreturn\u001b[39;00m suggestions\n",
      "\u001b[1;31mAttributeError\u001b[0m: 'Tensor' object has no attribute 'items'"
     ]
    }
   ],
   "source": [
    "print(\"Following are the questions : \")\n",
    "print(ds['question'])\n",
    "n=int(input(\"enter your question you want to answer :\"))\n",
    "ans = input(\"Enter your answer\")\n",
    "suggestions=suggest_sections(ans,ds,min_suggestions=1)\n",
    "suggestion=suggestions[n-1]\n",
    "if suggestion:\n",
    "        print(f\"S_no: {suggestion['index']}\")\n",
    "        print(f\"Question: {suggestion['question']}\")\n",
    "        print(f\"Your answer: {ans}\")\n",
    "        print(f\"Expected answer : {suggestion['ans']}\")\n",
    "        print(f\"Answer: {suggestion['ans']}\")\n",
    "        print(f\"Similarity Score: {round(suggestion['similarity_score']*100,2)}%\")\n",
    "        print(\"_________________________________________________________________________________________\\n\")\n",
    "else:\n",
    "    print(\"No record is found\")\n"
   ]
  }
 ],
 "metadata": {
  "kernelspec": {
   "display_name": "Python 3",
   "language": "python",
   "name": "python3"
  },
  "language_info": {
   "codemirror_mode": {
    "name": "ipython",
    "version": 3
   },
   "file_extension": ".py",
   "mimetype": "text/x-python",
   "name": "python",
   "nbconvert_exporter": "python",
   "pygments_lexer": "ipython3",
   "version": "3.11.4"
  }
 },
 "nbformat": 4,
 "nbformat_minor": 2
}
